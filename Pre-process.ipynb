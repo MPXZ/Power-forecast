{
 "cells": [
  {
   "cell_type": "code",
   "execution_count": 1,
   "metadata": {},
   "outputs": [
    {
     "name": "stderr",
     "output_type": "stream",
     "text": [
      "C:\\ProgramData\\Anaconda3\\lib\\site-packages\\pandas\\compat\\_optional.py:138: UserWarning: Pandas requires version '2.7.0' or newer of 'numexpr' (version '2.6.8' currently installed).\n",
      "  warnings.warn(msg, UserWarning)\n",
      "UsageError: Line magic function `%pyplot` not found.\n"
     ]
    }
   ],
   "source": [
    "import numpy as np\n",
    "import pandas as pd\n",
    "import matplotlib.pyplot as plt\n",
    "import seaborn as sn\n",
    "%pyplot inline"
   ]
  },
  {
   "cell_type": "code",
   "execution_count": 16,
   "metadata": {},
   "outputs": [],
   "source": [
    "df=pd.read_csv('data.csv', header=0, names=['variable','date_time','value'], index_col=1)"
   ]
  },
  {
   "cell_type": "code",
   "execution_count": 17,
   "metadata": {},
   "outputs": [
    {
     "data": {
      "text/html": [
       "<div>\n",
       "<style scoped>\n",
       "    .dataframe tbody tr th:only-of-type {\n",
       "        vertical-align: middle;\n",
       "    }\n",
       "\n",
       "    .dataframe tbody tr th {\n",
       "        vertical-align: top;\n",
       "    }\n",
       "\n",
       "    .dataframe thead th {\n",
       "        text-align: right;\n",
       "    }\n",
       "</style>\n",
       "<table border=\"1\" class=\"dataframe\">\n",
       "  <thead>\n",
       "    <tr style=\"text-align: right;\">\n",
       "      <th></th>\n",
       "      <th>variable</th>\n",
       "      <th>value</th>\n",
       "    </tr>\n",
       "    <tr>\n",
       "      <th>date_time</th>\n",
       "      <th></th>\n",
       "      <th></th>\n",
       "    </tr>\n",
       "  </thead>\n",
       "  <tbody>\n",
       "    <tr>\n",
       "      <th>2021-11-01 00:04:32 GMT+0000</th>\n",
       "      <td>generationPower</td>\n",
       "      <td>-0.016</td>\n",
       "    </tr>\n",
       "    <tr>\n",
       "      <th>2021-11-01 00:09:34 GMT+0000</th>\n",
       "      <td>generationPower</td>\n",
       "      <td>-0.015</td>\n",
       "    </tr>\n",
       "    <tr>\n",
       "      <th>2021-11-01 00:14:36 GMT+0000</th>\n",
       "      <td>generationPower</td>\n",
       "      <td>-0.015</td>\n",
       "    </tr>\n",
       "    <tr>\n",
       "      <th>2021-11-01 00:19:38 GMT+0000</th>\n",
       "      <td>generationPower</td>\n",
       "      <td>-0.015</td>\n",
       "    </tr>\n",
       "    <tr>\n",
       "      <th>2021-11-01 00:24:40 GMT+0000</th>\n",
       "      <td>generationPower</td>\n",
       "      <td>-0.015</td>\n",
       "    </tr>\n",
       "  </tbody>\n",
       "</table>\n",
       "</div>"
      ],
      "text/plain": [
       "                                     variable  value\n",
       "date_time                                           \n",
       "2021-11-01 00:04:32 GMT+0000  generationPower -0.016\n",
       "2021-11-01 00:09:34 GMT+0000  generationPower -0.015\n",
       "2021-11-01 00:14:36 GMT+0000  generationPower -0.015\n",
       "2021-11-01 00:19:38 GMT+0000  generationPower -0.015\n",
       "2021-11-01 00:24:40 GMT+0000  generationPower -0.015"
      ]
     },
     "execution_count": 17,
     "metadata": {},
     "output_type": "execute_result"
    }
   ],
   "source": [
    "# From date_time column, we know that data is recorded every 5 mins (sampling rate)\n",
    "df.head()"
   ]
  },
  {
   "cell_type": "code",
   "execution_count": 20,
   "metadata": {},
   "outputs": [
    {
     "data": {
      "text/plain": [
       "Index(['2021-11-01 00:04:32 GMT+0000', '2021-11-01 00:09:34 GMT+0000',\n",
       "       '2021-11-01 00:14:36 GMT+0000', '2021-11-01 00:19:38 GMT+0000',\n",
       "       '2021-11-01 00:24:40 GMT+0000', '2021-11-01 00:29:42 GMT+0000',\n",
       "       '2021-11-01 00:34:44 GMT+0000', '2021-11-01 00:39:46 GMT+0000',\n",
       "       '2021-11-01 00:44:48 GMT+0000', '2021-11-01 00:49:50 GMT+0000',\n",
       "       ...\n",
       "       '2021-10-31 22:13:47 GMT+0000', '2021-10-31 22:18:49 GMT+0000',\n",
       "       '2021-10-31 22:23:51 GMT+0000', '2021-10-31 22:28:53 GMT+0000',\n",
       "       '2021-10-31 22:33:55 GMT+0000', '2021-10-31 22:38:57 GMT+0000',\n",
       "       '2021-10-31 22:43:59 GMT+0000', '2021-10-31 22:49:01 GMT+0000',\n",
       "       '2021-10-31 22:54:03 GMT+0000', '2021-10-31 22:59:05 GMT+0000'],\n",
       "      dtype='object', name='date_time', length=49885)"
      ]
     },
     "execution_count": 20,
     "metadata": {},
     "output_type": "execute_result"
    }
   ],
   "source": [
    "df.index"
   ]
  },
  {
   "cell_type": "code",
   "execution_count": 23,
   "metadata": {},
   "outputs": [],
   "source": [
    "#Convert time to datetime index and disable timezone\n",
    "df.index = pd.to_datetime(df.index, utc=True)\n",
    "df.index=df.index.tz_convert(None)"
   ]
  },
  {
   "cell_type": "code",
   "execution_count": 40,
   "metadata": {},
   "outputs": [
    {
     "data": {
      "text/plain": [
       "DatetimeIndex(['2021-11-01 00:04:32', '2021-11-01 00:09:34',\n",
       "               '2021-11-01 00:14:36', '2021-11-01 00:19:38',\n",
       "               '2021-11-01 00:24:40', '2021-11-01 00:29:42',\n",
       "               '2021-11-01 00:34:44', '2021-11-01 00:39:46',\n",
       "               '2021-11-01 00:44:48', '2021-11-01 00:49:50',\n",
       "               ...\n",
       "               '2021-10-31 22:13:47', '2021-10-31 22:18:49',\n",
       "               '2021-10-31 22:23:51', '2021-10-31 22:28:53',\n",
       "               '2021-10-31 22:33:55', '2021-10-31 22:38:57',\n",
       "               '2021-10-31 22:43:59', '2021-10-31 22:49:01',\n",
       "               '2021-10-31 22:54:03', '2021-10-31 22:59:05'],\n",
       "              dtype='datetime64[ns]', name='date_time', length=49885, freq=None)"
      ]
     },
     "execution_count": 40,
     "metadata": {},
     "output_type": "execute_result"
    }
   ],
   "source": [
    "df.index"
   ]
  },
  {
   "cell_type": "code",
   "execution_count": null,
   "metadata": {},
   "outputs": [],
   "source": [
    "df = df.sort_index()"
   ]
  },
  {
   "cell_type": "code",
   "execution_count": 29,
   "metadata": {},
   "outputs": [
    {
     "data": {
      "text/plain": [
       "array(['generationPower', 'loadsPower', 'batChargePower', 'SoC',\n",
       "       'gridConsumptionPower'], dtype=object)"
      ]
     },
     "execution_count": 29,
     "metadata": {},
     "output_type": "execute_result"
    }
   ],
   "source": [
    "#Check what kind of attribute in the data\n",
    "attr=df['variable'].unique()\n",
    "attr"
   ]
  },
  {
   "cell_type": "code",
   "execution_count": 30,
   "metadata": {},
   "outputs": [],
   "source": [
    "# We are only interested in loadspower, filter dataset \n",
    "l_df=df.loc[df['variable'] == 'loadsPower']"
   ]
  },
  {
   "cell_type": "code",
   "execution_count": 31,
   "metadata": {},
   "outputs": [
    {
     "data": {
      "text/html": [
       "<div>\n",
       "<style scoped>\n",
       "    .dataframe tbody tr th:only-of-type {\n",
       "        vertical-align: middle;\n",
       "    }\n",
       "\n",
       "    .dataframe tbody tr th {\n",
       "        vertical-align: top;\n",
       "    }\n",
       "\n",
       "    .dataframe thead th {\n",
       "        text-align: right;\n",
       "    }\n",
       "</style>\n",
       "<table border=\"1\" class=\"dataframe\">\n",
       "  <thead>\n",
       "    <tr style=\"text-align: right;\">\n",
       "      <th></th>\n",
       "      <th>value</th>\n",
       "    </tr>\n",
       "    <tr>\n",
       "      <th>date_time</th>\n",
       "      <th></th>\n",
       "    </tr>\n",
       "  </thead>\n",
       "  <tbody>\n",
       "    <tr>\n",
       "      <th>2021-10-10 16:12:32</th>\n",
       "      <td>0.172</td>\n",
       "    </tr>\n",
       "    <tr>\n",
       "      <th>2021-10-10 16:17:34</th>\n",
       "      <td>0.190</td>\n",
       "    </tr>\n",
       "    <tr>\n",
       "      <th>2021-10-10 16:22:36</th>\n",
       "      <td>0.168</td>\n",
       "    </tr>\n",
       "    <tr>\n",
       "      <th>2021-10-10 16:27:38</th>\n",
       "      <td>0.167</td>\n",
       "    </tr>\n",
       "    <tr>\n",
       "      <th>2021-10-10 16:32:40</th>\n",
       "      <td>0.172</td>\n",
       "    </tr>\n",
       "  </tbody>\n",
       "</table>\n",
       "</div>"
      ],
      "text/plain": [
       "                     value\n",
       "date_time                 \n",
       "2021-10-10 16:12:32  0.172\n",
       "2021-10-10 16:17:34  0.190\n",
       "2021-10-10 16:22:36  0.168\n",
       "2021-10-10 16:27:38  0.167\n",
       "2021-10-10 16:32:40  0.172"
      ]
     },
     "execution_count": 31,
     "metadata": {},
     "output_type": "execute_result"
    }
   ],
   "source": [
    "# Create new dataset including only the feature we want and sort the datetime accordingly\n",
    "\n",
    "data=l_df.drop(['variable'],axis=1)\n",
    "data = data.sort_index()\n",
    "data.head()"
   ]
  },
  {
   "cell_type": "code",
   "execution_count": 37,
   "metadata": {},
   "outputs": [
    {
     "name": "stdout",
     "output_type": "stream",
     "text": [
      "There are 36 days of electricity consumption.\n"
     ]
    }
   ],
   "source": [
    "Ind = data.index\n",
    "total_days=(Ind[-1]-Ind[0]).days\n",
    "print('There are {} days of electricity consumption.'.format(total_days))"
   ]
  },
  {
   "cell_type": "code",
   "execution_count": 41,
   "metadata": {},
   "outputs": [
    {
     "data": {
      "text/html": [
       "<div>\n",
       "<style scoped>\n",
       "    .dataframe tbody tr th:only-of-type {\n",
       "        vertical-align: middle;\n",
       "    }\n",
       "\n",
       "    .dataframe tbody tr th {\n",
       "        vertical-align: top;\n",
       "    }\n",
       "\n",
       "    .dataframe thead th {\n",
       "        text-align: right;\n",
       "    }\n",
       "</style>\n",
       "<table border=\"1\" class=\"dataframe\">\n",
       "  <thead>\n",
       "    <tr style=\"text-align: right;\">\n",
       "      <th></th>\n",
       "      <th>value</th>\n",
       "    </tr>\n",
       "    <tr>\n",
       "      <th>date_time</th>\n",
       "      <th></th>\n",
       "    </tr>\n",
       "  </thead>\n",
       "  <tbody>\n",
       "    <tr>\n",
       "      <th>2021-10-10 16:12:32</th>\n",
       "      <td>0.172</td>\n",
       "    </tr>\n",
       "    <tr>\n",
       "      <th>2021-10-10 17:12:32</th>\n",
       "      <td>0.126</td>\n",
       "    </tr>\n",
       "    <tr>\n",
       "      <th>2021-10-10 18:12:32</th>\n",
       "      <td>0.179</td>\n",
       "    </tr>\n",
       "    <tr>\n",
       "      <th>2021-10-10 19:12:32</th>\n",
       "      <td>0.128</td>\n",
       "    </tr>\n",
       "    <tr>\n",
       "      <th>2021-10-10 20:12:32</th>\n",
       "      <td>0.170</td>\n",
       "    </tr>\n",
       "  </tbody>\n",
       "</table>\n",
       "</div>"
      ],
      "text/plain": [
       "                     value\n",
       "date_time                 \n",
       "2021-10-10 16:12:32  0.172\n",
       "2021-10-10 17:12:32  0.126\n",
       "2021-10-10 18:12:32  0.179\n",
       "2021-10-10 19:12:32  0.128\n",
       "2021-10-10 20:12:32  0.170"
      ]
     },
     "execution_count": 41,
     "metadata": {},
     "output_type": "execute_result"
    }
   ],
   "source": [
    "H_data=data.asfreq(freq='1H',method='pad')\n",
    "H_data.head()"
   ]
  },
  {
   "cell_type": "code",
   "execution_count": 44,
   "metadata": {},
   "outputs": [
    {
     "data": {
      "text/plain": [
       "<matplotlib.axes._subplots.AxesSubplot at 0x2adeb061400>"
      ]
     },
     "execution_count": 44,
     "metadata": {},
     "output_type": "execute_result"
    },
    {
     "data": {
      "image/png": "[encoded data removed]",
      "text/plain": [
       "<Figure size 432x288 with 1 Axes>"
      ]
     },
     "metadata": {
      "needs_background": "light"
     },
     "output_type": "display_data"
    }
   ],
   "source": [
    "# a day usage plot\n",
    "Day_data=H_data['2021-10-12 00:12:32':'2021-10-13 00:12:32']\n",
    "Day_data.plot()"
   ]
  },
  {
   "cell_type": "code",
   "execution_count": 45,
   "metadata": {},
   "outputs": [
    {
     "data": {
      "text/html": [
       "<div>\n",
       "<style scoped>\n",
       "    .dataframe tbody tr th:only-of-type {\n",
       "        vertical-align: middle;\n",
       "    }\n",
       "\n",
       "    .dataframe tbody tr th {\n",
       "        vertical-align: top;\n",
       "    }\n",
       "\n",
       "    .dataframe thead th {\n",
       "        text-align: right;\n",
       "    }\n",
       "</style>\n",
       "<table border=\"1\" class=\"dataframe\">\n",
       "  <thead>\n",
       "    <tr style=\"text-align: right;\">\n",
       "      <th></th>\n",
       "      <th>value</th>\n",
       "    </tr>\n",
       "    <tr>\n",
       "      <th>date_time</th>\n",
       "      <th></th>\n",
       "    </tr>\n",
       "  </thead>\n",
       "  <tbody>\n",
       "    <tr>\n",
       "      <th>2021-10-11 16:12:32</th>\n",
       "      <td>0.062</td>\n",
       "    </tr>\n",
       "    <tr>\n",
       "      <th>2021-10-12 16:12:32</th>\n",
       "      <td>0.027</td>\n",
       "    </tr>\n",
       "    <tr>\n",
       "      <th>2021-10-13 16:12:32</th>\n",
       "      <td>0.048</td>\n",
       "    </tr>\n",
       "    <tr>\n",
       "      <th>2021-10-14 16:12:32</th>\n",
       "      <td>0.130</td>\n",
       "    </tr>\n",
       "    <tr>\n",
       "      <th>2021-10-15 16:12:32</th>\n",
       "      <td>0.045</td>\n",
       "    </tr>\n",
       "  </tbody>\n",
       "</table>\n",
       "</div>"
      ],
      "text/plain": [
       "                     value\n",
       "date_time                 \n",
       "2021-10-11 16:12:32  0.062\n",
       "2021-10-12 16:12:32  0.027\n",
       "2021-10-13 16:12:32  0.048\n",
       "2021-10-14 16:12:32  0.130\n",
       "2021-10-15 16:12:32  0.045"
      ]
     },
     "execution_count": 45,
     "metadata": {},
     "output_type": "execute_result"
    }
   ],
   "source": [
    "daily_ts_data=data.asfreq(pd.offsets.BDay(), method='pad')\n",
    "daily_ts_data.head(5)"
   ]
  },
  {
   "cell_type": "code",
   "execution_count": 60,
   "metadata": {},
   "outputs": [
    {
     "name": "stderr",
     "output_type": "stream",
     "text": [
      "C:\\ProgramData\\Anaconda3\\lib\\site-packages\\ipykernel_launcher.py:1: DeprecationWarning: The default dtype for empty Series will be 'object' instead of 'float64' in a future version. Specify a dtype explicitly to silence this warning.\n",
      "  \"\"\"Entry point for launching an IPython kernel.\n"
     ]
    }
   ],
   "source": [
    "def plot_series(df=None, column=None, series=pd.Series([]), \n",
    "                label=None, ylabel=None, title=None, start=0, end=None):\n",
    "    \"\"\"\n",
    "    Plots a certain time-series which has either been loaded in a dataframe\n",
    "    and which constitutes one of its columns or it a custom pandas series \n",
    "    created by the user. The user can define either the 'df' and the 'column' \n",
    "    or the 'series' and additionally, can also define the 'label', the \n",
    "    'ylabel', the 'title', the 'start' and the 'end' of the plot.\n",
    "    \"\"\"\n",
    "    #sns.set()\n",
    "    fig, ax = plt.subplots(figsize=(30, 12))\n",
    "    ax.set_xlabel('Time', fontsize=20)\n",
    "    if column:\n",
    "        ax.plot(df[column][start:end], label=label)\n",
    "        ax.set_ylabel(ylabel, fontsize=20)\n",
    "    if series.any():\n",
    "        ax.plot(series, label=label)\n",
    "        ax.set_ylabel(ylabel, fontsize=20)\n",
    "    if label:\n",
    "        ax.legend(fontsize=16)\n",
    "    if title:\n",
    "        ax.set_title(title, fontsize=24)\n",
    "    ax.grid(True)\n",
    "    return ax"
   ]
  },
  {
   "cell_type": "code",
   "execution_count": 61,
   "metadata": {},
   "outputs": [
    {
     "data": {
      "image/png": "[encoded data removed]",
      "text/plain": [
       "<Figure size 2160x864 with 1 Axes>"
      ]
     },
     "metadata": {
      "needs_background": "light"
     },
     "output_type": "display_data"
    }
   ],
   "source": [
    "# First week usage plot\n",
    "ax = plot_series(df=H_data, column='value', ylabel='Load Power',\n",
    "                 title='Actual Total Load (First week - Original)', end=24*7)\n",
    "plt.show()"
   ]
  },
  {
   "cell_type": "code",
   "execution_count": 52,
   "metadata": {},
   "outputs": [],
   "source": [
    "day_mapping = {0: 'Monday', 1: 'Tuesday', 2: 'Wednesday', 3: 'Thursday', 4: 'Friday', 5: 'Saturday', 6: 'Sunday'}\n",
    "H_data[\"day_of_week\"] = H_data.index.weekday.map(day_mapping)"
   ]
  },
  {
   "cell_type": "code",
   "execution_count": 53,
   "metadata": {},
   "outputs": [
    {
     "data": {
      "text/html": [
       "<div>\n",
       "<style scoped>\n",
       "    .dataframe tbody tr th:only-of-type {\n",
       "        vertical-align: middle;\n",
       "    }\n",
       "\n",
       "    .dataframe tbody tr th {\n",
       "        vertical-align: top;\n",
       "    }\n",
       "\n",
       "    .dataframe thead th {\n",
       "        text-align: right;\n",
       "    }\n",
       "</style>\n",
       "<table border=\"1\" class=\"dataframe\">\n",
       "  <thead>\n",
       "    <tr style=\"text-align: right;\">\n",
       "      <th></th>\n",
       "      <th>value</th>\n",
       "      <th>day_of_week</th>\n",
       "    </tr>\n",
       "    <tr>\n",
       "      <th>date_time</th>\n",
       "      <th></th>\n",
       "      <th></th>\n",
       "    </tr>\n",
       "  </thead>\n",
       "  <tbody>\n",
       "    <tr>\n",
       "      <th>2021-10-10 16:12:32</th>\n",
       "      <td>0.172</td>\n",
       "      <td>Sunday</td>\n",
       "    </tr>\n",
       "    <tr>\n",
       "      <th>2021-10-10 17:12:32</th>\n",
       "      <td>0.126</td>\n",
       "      <td>Sunday</td>\n",
       "    </tr>\n",
       "    <tr>\n",
       "      <th>2021-10-10 18:12:32</th>\n",
       "      <td>0.179</td>\n",
       "      <td>Sunday</td>\n",
       "    </tr>\n",
       "    <tr>\n",
       "      <th>2021-10-10 19:12:32</th>\n",
       "      <td>0.128</td>\n",
       "      <td>Sunday</td>\n",
       "    </tr>\n",
       "    <tr>\n",
       "      <th>2021-10-10 20:12:32</th>\n",
       "      <td>0.170</td>\n",
       "      <td>Sunday</td>\n",
       "    </tr>\n",
       "  </tbody>\n",
       "</table>\n",
       "</div>"
      ],
      "text/plain": [
       "                     value day_of_week\n",
       "date_time                             \n",
       "2021-10-10 16:12:32  0.172      Sunday\n",
       "2021-10-10 17:12:32  0.126      Sunday\n",
       "2021-10-10 18:12:32  0.179      Sunday\n",
       "2021-10-10 19:12:32  0.128      Sunday\n",
       "2021-10-10 20:12:32  0.170      Sunday"
      ]
     },
     "execution_count": 53,
     "metadata": {},
     "output_type": "execute_result"
    }
   ],
   "source": [
    "H_data.head()"
   ]
  },
  {
   "cell_type": "code",
   "execution_count": 64,
   "metadata": {},
   "outputs": [
    {
     "data": {
      "text/plain": [
       "Text(0, 0.5, 'Load')"
      ]
     },
     "execution_count": 64,
     "metadata": {},
     "output_type": "execute_result"
    },
    {
     "data": {
      "image/png": "[encoded data removed]",
      "text/plain": [
       "<Figure size 576x288 with 1 Axes>"
      ]
     },
     "metadata": {
      "needs_background": "light"
     },
     "output_type": "display_data"
    }
   ],
   "source": [
    "# day of week distribution plot\n",
    "fig, axs = plt.subplots(figsize=(8, 4))\n",
    "H_data.groupby(H_data['day_of_week'])[\"value\"].mean().plot(kind='bar', rot=0, ax=axs)\n",
    "plt.xlabel(\"Day_of_week\")\n",
    "plt.ylabel(\"Load\")"
   ]
  },
  {
   "cell_type": "code",
   "execution_count": 65,
   "metadata": {},
   "outputs": [],
   "source": [
    "def date_transform(df, encode_cols):\n",
    "    # extract a few features from datetime\n",
    "    df['Year'] = df.index.year\n",
    "    df['Month'] = df.index.month\n",
    "    df['WeekofYear'] = df.index.weekofyear\n",
    "    df['DayofWeek'] = df.index.weekday\n",
    "    df['Hour'] = df.index.hour\n",
    "    df['Minute'] = df.index.minute\n",
    "    # one hot encoder for categorical variables\n",
    "    for col in encode_cols:\n",
    "        df[col] = df[col].astype('category')\n",
    "        \n",
    "    df = pd.get_dummies(df, columns=encode_cols)\n",
    "    \n",
    "    return df"
   ]
  },
  {
   "cell_type": "code",
   "execution_count": 71,
   "metadata": {},
   "outputs": [],
   "source": [
    "# generate lag features\n",
    "\n",
    "def generated_lagged(data,var,max_lag):\n",
    "    for t in range(1, max_lag+1):\n",
    "        data[var+'_lag'+str(t)] = data[var].shift(t)"
   ]
  },
  {
   "cell_type": "code",
   "execution_count": 77,
   "metadata": {},
   "outputs": [],
   "source": [
    "#create rolling mean feature\n",
    "\n",
    "load_val=data['value']\n",
    "shifted = load_val.shift(1)\n",
    "\n",
    "\n",
    "window1=shifted.rolling(window=2)\n",
    "means1=window1.mean()\n",
    "\n",
    "window2=shifted.rolling(window=7)\n",
    "means2=window2.mean()\n",
    "\n",
    "new_data=pd.concat([load_val, means1, means2], axis=1)\n",
    "new_data.columns=['value','roll_mean_2', 'roll_mean_7']"
   ]
  },
  {
   "cell_type": "code",
   "execution_count": 78,
   "metadata": {},
   "outputs": [],
   "source": [
    "generated_lagged(new_data, 'value',2)"
   ]
  },
  {
   "cell_type": "code",
   "execution_count": 79,
   "metadata": {},
   "outputs": [
    {
     "data": {
      "text/html": [
       "<div>\n",
       "<style scoped>\n",
       "    .dataframe tbody tr th:only-of-type {\n",
       "        vertical-align: middle;\n",
       "    }\n",
       "\n",
       "    .dataframe tbody tr th {\n",
       "        vertical-align: top;\n",
       "    }\n",
       "\n",
       "    .dataframe thead th {\n",
       "        text-align: right;\n",
       "    }\n",
       "</style>\n",
       "<table border=\"1\" class=\"dataframe\">\n",
       "  <thead>\n",
       "    <tr style=\"text-align: right;\">\n",
       "      <th></th>\n",
       "      <th>value</th>\n",
       "      <th>roll_mean_2</th>\n",
       "      <th>roll_mean_7</th>\n",
       "      <th>value_lag1</th>\n",
       "      <th>value_lag2</th>\n",
       "    </tr>\n",
       "    <tr>\n",
       "      <th>date_time</th>\n",
       "      <th></th>\n",
       "      <th></th>\n",
       "      <th></th>\n",
       "      <th></th>\n",
       "      <th></th>\n",
       "    </tr>\n",
       "  </thead>\n",
       "  <tbody>\n",
       "    <tr>\n",
       "      <th>2021-10-10 16:12:32</th>\n",
       "      <td>0.172</td>\n",
       "      <td>NaN</td>\n",
       "      <td>NaN</td>\n",
       "      <td>NaN</td>\n",
       "      <td>NaN</td>\n",
       "    </tr>\n",
       "    <tr>\n",
       "      <th>2021-10-10 16:17:34</th>\n",
       "      <td>0.190</td>\n",
       "      <td>NaN</td>\n",
       "      <td>NaN</td>\n",
       "      <td>0.172</td>\n",
       "      <td>NaN</td>\n",
       "    </tr>\n",
       "    <tr>\n",
       "      <th>2021-10-10 16:22:36</th>\n",
       "      <td>0.168</td>\n",
       "      <td>0.1810</td>\n",
       "      <td>NaN</td>\n",
       "      <td>0.190</td>\n",
       "      <td>0.172</td>\n",
       "    </tr>\n",
       "    <tr>\n",
       "      <th>2021-10-10 16:27:38</th>\n",
       "      <td>0.167</td>\n",
       "      <td>0.1790</td>\n",
       "      <td>NaN</td>\n",
       "      <td>0.168</td>\n",
       "      <td>0.190</td>\n",
       "    </tr>\n",
       "    <tr>\n",
       "      <th>2021-10-10 16:32:40</th>\n",
       "      <td>0.172</td>\n",
       "      <td>0.1675</td>\n",
       "      <td>NaN</td>\n",
       "      <td>0.167</td>\n",
       "      <td>0.168</td>\n",
       "    </tr>\n",
       "  </tbody>\n",
       "</table>\n",
       "</div>"
      ],
      "text/plain": [
       "                     value  roll_mean_2  roll_mean_7  value_lag1  value_lag2\n",
       "date_time                                                                   \n",
       "2021-10-10 16:12:32  0.172          NaN          NaN         NaN         NaN\n",
       "2021-10-10 16:17:34  0.190          NaN          NaN       0.172         NaN\n",
       "2021-10-10 16:22:36  0.168       0.1810          NaN       0.190       0.172\n",
       "2021-10-10 16:27:38  0.167       0.1790          NaN       0.168       0.190\n",
       "2021-10-10 16:32:40  0.172       0.1675          NaN       0.167       0.168"
      ]
     },
     "execution_count": 79,
     "metadata": {},
     "output_type": "execute_result"
    }
   ],
   "source": [
    "new_data.head()"
   ]
  },
  {
   "cell_type": "code",
   "execution_count": 80,
   "metadata": {},
   "outputs": [
    {
     "name": "stderr",
     "output_type": "stream",
     "text": [
      "C:\\ProgramData\\Anaconda3\\lib\\site-packages\\ipykernel_launcher.py:5: FutureWarning: weekofyear and week have been deprecated, please use DatetimeIndex.isocalendar().week instead, which returns a Series.  To exactly reproduce the behavior of week and weekofyear and return an Index, you may call pd.Int64Index(idx.isocalendar().week)\n",
      "  \"\"\"\n"
     ]
    }
   ],
   "source": [
    "encode_cols = ['Month', 'DayofWeek', 'Hour']\n",
    "Processed_data=date_transform(data, encode_cols)"
   ]
  },
  {
   "cell_type": "code",
   "execution_count": 81,
   "metadata": {},
   "outputs": [
    {
     "data": {
      "text/html": [
       "<div>\n",
       "<style scoped>\n",
       "    .dataframe tbody tr th:only-of-type {\n",
       "        vertical-align: middle;\n",
       "    }\n",
       "\n",
       "    .dataframe tbody tr th {\n",
       "        vertical-align: top;\n",
       "    }\n",
       "\n",
       "    .dataframe thead th {\n",
       "        text-align: right;\n",
       "    }\n",
       "</style>\n",
       "<table border=\"1\" class=\"dataframe\">\n",
       "  <thead>\n",
       "    <tr style=\"text-align: right;\">\n",
       "      <th></th>\n",
       "      <th>value</th>\n",
       "      <th>Year</th>\n",
       "      <th>WeekofYear</th>\n",
       "      <th>Minute</th>\n",
       "      <th>Month_10</th>\n",
       "      <th>Month_11</th>\n",
       "      <th>DayofWeek_0</th>\n",
       "      <th>DayofWeek_1</th>\n",
       "      <th>DayofWeek_2</th>\n",
       "      <th>DayofWeek_3</th>\n",
       "      <th>...</th>\n",
       "      <th>Hour_14</th>\n",
       "      <th>Hour_15</th>\n",
       "      <th>Hour_16</th>\n",
       "      <th>Hour_17</th>\n",
       "      <th>Hour_18</th>\n",
       "      <th>Hour_19</th>\n",
       "      <th>Hour_20</th>\n",
       "      <th>Hour_21</th>\n",
       "      <th>Hour_22</th>\n",
       "      <th>Hour_23</th>\n",
       "    </tr>\n",
       "    <tr>\n",
       "      <th>date_time</th>\n",
       "      <th></th>\n",
       "      <th></th>\n",
       "      <th></th>\n",
       "      <th></th>\n",
       "      <th></th>\n",
       "      <th></th>\n",
       "      <th></th>\n",
       "      <th></th>\n",
       "      <th></th>\n",
       "      <th></th>\n",
       "      <th></th>\n",
       "      <th></th>\n",
       "      <th></th>\n",
       "      <th></th>\n",
       "      <th></th>\n",
       "      <th></th>\n",
       "      <th></th>\n",
       "      <th></th>\n",
       "      <th></th>\n",
       "      <th></th>\n",
       "      <th></th>\n",
       "    </tr>\n",
       "  </thead>\n",
       "  <tbody>\n",
       "    <tr>\n",
       "      <th>2021-10-10 16:12:32</th>\n",
       "      <td>0.172</td>\n",
       "      <td>2021</td>\n",
       "      <td>40</td>\n",
       "      <td>12</td>\n",
       "      <td>1</td>\n",
       "      <td>0</td>\n",
       "      <td>0</td>\n",
       "      <td>0</td>\n",
       "      <td>0</td>\n",
       "      <td>0</td>\n",
       "      <td>...</td>\n",
       "      <td>0</td>\n",
       "      <td>0</td>\n",
       "      <td>1</td>\n",
       "      <td>0</td>\n",
       "      <td>0</td>\n",
       "      <td>0</td>\n",
       "      <td>0</td>\n",
       "      <td>0</td>\n",
       "      <td>0</td>\n",
       "      <td>0</td>\n",
       "    </tr>\n",
       "    <tr>\n",
       "      <th>2021-10-10 16:17:34</th>\n",
       "      <td>0.190</td>\n",
       "      <td>2021</td>\n",
       "      <td>40</td>\n",
       "      <td>17</td>\n",
       "      <td>1</td>\n",
       "      <td>0</td>\n",
       "      <td>0</td>\n",
       "      <td>0</td>\n",
       "      <td>0</td>\n",
       "      <td>0</td>\n",
       "      <td>...</td>\n",
       "      <td>0</td>\n",
       "      <td>0</td>\n",
       "      <td>1</td>\n",
       "      <td>0</td>\n",
       "      <td>0</td>\n",
       "      <td>0</td>\n",
       "      <td>0</td>\n",
       "      <td>0</td>\n",
       "      <td>0</td>\n",
       "      <td>0</td>\n",
       "    </tr>\n",
       "    <tr>\n",
       "      <th>2021-10-10 16:22:36</th>\n",
       "      <td>0.168</td>\n",
       "      <td>2021</td>\n",
       "      <td>40</td>\n",
       "      <td>22</td>\n",
       "      <td>1</td>\n",
       "      <td>0</td>\n",
       "      <td>0</td>\n",
       "      <td>0</td>\n",
       "      <td>0</td>\n",
       "      <td>0</td>\n",
       "      <td>...</td>\n",
       "      <td>0</td>\n",
       "      <td>0</td>\n",
       "      <td>1</td>\n",
       "      <td>0</td>\n",
       "      <td>0</td>\n",
       "      <td>0</td>\n",
       "      <td>0</td>\n",
       "      <td>0</td>\n",
       "      <td>0</td>\n",
       "      <td>0</td>\n",
       "    </tr>\n",
       "    <tr>\n",
       "      <th>2021-10-10 16:27:38</th>\n",
       "      <td>0.167</td>\n",
       "      <td>2021</td>\n",
       "      <td>40</td>\n",
       "      <td>27</td>\n",
       "      <td>1</td>\n",
       "      <td>0</td>\n",
       "      <td>0</td>\n",
       "      <td>0</td>\n",
       "      <td>0</td>\n",
       "      <td>0</td>\n",
       "      <td>...</td>\n",
       "      <td>0</td>\n",
       "      <td>0</td>\n",
       "      <td>1</td>\n",
       "      <td>0</td>\n",
       "      <td>0</td>\n",
       "      <td>0</td>\n",
       "      <td>0</td>\n",
       "      <td>0</td>\n",
       "      <td>0</td>\n",
       "      <td>0</td>\n",
       "    </tr>\n",
       "    <tr>\n",
       "      <th>2021-10-10 16:32:40</th>\n",
       "      <td>0.172</td>\n",
       "      <td>2021</td>\n",
       "      <td>40</td>\n",
       "      <td>32</td>\n",
       "      <td>1</td>\n",
       "      <td>0</td>\n",
       "      <td>0</td>\n",
       "      <td>0</td>\n",
       "      <td>0</td>\n",
       "      <td>0</td>\n",
       "      <td>...</td>\n",
       "      <td>0</td>\n",
       "      <td>0</td>\n",
       "      <td>1</td>\n",
       "      <td>0</td>\n",
       "      <td>0</td>\n",
       "      <td>0</td>\n",
       "      <td>0</td>\n",
       "      <td>0</td>\n",
       "      <td>0</td>\n",
       "      <td>0</td>\n",
       "    </tr>\n",
       "  </tbody>\n",
       "</table>\n",
       "<p>5 rows × 37 columns</p>\n",
       "</div>"
      ],
      "text/plain": [
       "                     value  Year  WeekofYear  Minute  Month_10  Month_11  \\\n",
       "date_time                                                                  \n",
       "2021-10-10 16:12:32  0.172  2021          40      12         1         0   \n",
       "2021-10-10 16:17:34  0.190  2021          40      17         1         0   \n",
       "2021-10-10 16:22:36  0.168  2021          40      22         1         0   \n",
       "2021-10-10 16:27:38  0.167  2021          40      27         1         0   \n",
       "2021-10-10 16:32:40  0.172  2021          40      32         1         0   \n",
       "\n",
       "                     DayofWeek_0  DayofWeek_1  DayofWeek_2  DayofWeek_3  ...  \\\n",
       "date_time                                                                ...   \n",
       "2021-10-10 16:12:32            0            0            0            0  ...   \n",
       "2021-10-10 16:17:34            0            0            0            0  ...   \n",
       "2021-10-10 16:22:36            0            0            0            0  ...   \n",
       "2021-10-10 16:27:38            0            0            0            0  ...   \n",
       "2021-10-10 16:32:40            0            0            0            0  ...   \n",
       "\n",
       "                     Hour_14  Hour_15  Hour_16  Hour_17  Hour_18  Hour_19  \\\n",
       "date_time                                                                   \n",
       "2021-10-10 16:12:32        0        0        1        0        0        0   \n",
       "2021-10-10 16:17:34        0        0        1        0        0        0   \n",
       "2021-10-10 16:22:36        0        0        1        0        0        0   \n",
       "2021-10-10 16:27:38        0        0        1        0        0        0   \n",
       "2021-10-10 16:32:40        0        0        1        0        0        0   \n",
       "\n",
       "                     Hour_20  Hour_21  Hour_22  Hour_23  \n",
       "date_time                                                \n",
       "2021-10-10 16:12:32        0        0        0        0  \n",
       "2021-10-10 16:17:34        0        0        0        0  \n",
       "2021-10-10 16:22:36        0        0        0        0  \n",
       "2021-10-10 16:27:38        0        0        0        0  \n",
       "2021-10-10 16:32:40        0        0        0        0  \n",
       "\n",
       "[5 rows x 37 columns]"
      ]
     },
     "execution_count": 81,
     "metadata": {},
     "output_type": "execute_result"
    }
   ],
   "source": [
    "Processed_data.head()"
   ]
  },
  {
   "cell_type": "code",
   "execution_count": 82,
   "metadata": {},
   "outputs": [],
   "source": [
    "#fill NaN by 0\n",
    "Data=Processed_data.fillna(0)"
   ]
  },
  {
   "cell_type": "code",
   "execution_count": null,
   "metadata": {},
   "outputs": [],
   "source": []
  }
 ],
 "metadata": {
  "kernelspec": {
   "display_name": "Python 3",
   "language": "python",
   "name": "python3"
  },
  "language_info": {
   "codemirror_mode": {
    "name": "ipython",
    "version": 3
   },
   "file_extension": ".py",
   "mimetype": "text/x-python",
   "name": "python",
   "nbconvert_exporter": "python",
   "pygments_lexer": "ipython3",
   "version": "3.7.1"
  }
 },
 "nbformat": 4,
 "nbformat_minor": 2
}
